{
 "cells": [
  {
   "cell_type": "code",
   "execution_count": 2,
   "id": "b575fa53",
   "metadata": {},
   "outputs": [],
   "source": [
    "# Import System Libraries\n",
    "import pandas as pd\n",
    "import os"
   ]
  },
  {
   "cell_type": "code",
   "execution_count": 3,
   "id": "f5b51b0c",
   "metadata": {},
   "outputs": [],
   "source": [
    "# Import Trelliscope\n",
    "from trelliscope.trelliscope import Trelliscope"
   ]
  },
  {
   "cell_type": "code",
   "execution_count": 17,
   "id": "cdc2374a",
   "metadata": {},
   "outputs": [],
   "source": [
    "# Dataset location\n",
    "DATA_DIR = \"../../trelliscope/tests/external_data\"\n",
    "DF_FILENAME = \"mars_rover.csv\"\n",
    "DF_NAME = \"Mars Rover\"\n",
    "\n",
    "# Output location\n",
    "BASE_OUTPUT_DIR = \"../../test-build-output\""
   ]
  },
  {
   "cell_type": "code",
   "execution_count": 18,
   "id": "dc37281f",
   "metadata": {},
   "outputs": [
    {
     "name": "stdout",
     "output_type": "stream",
     "text": [
      "Loading dataset from: ../../trelliscope/tests/external_data/mars_rover.csv\n"
     ]
    }
   ],
   "source": [
    "# Load dataset\n",
    "df_path = os.path.join(DATA_DIR, DF_FILENAME)\n",
    "print(f\"Loading dataset from: {df_path}\")\n",
    "df = pd.read_csv(df_path)\n",
    "\n",
    "output_dir = os.path.join(os.getcwd(), BASE_OUTPUT_DIR)"
   ]
  },
  {
   "cell_type": "code",
   "execution_count": 19,
   "id": "661dd3e4",
   "metadata": {},
   "outputs": [],
   "source": [
    "# Create Trelliscope object\n",
    "tr = Trelliscope(df, DF_NAME, path=output_dir, pretty_meta_data=True)"
   ]
  },
  {
   "cell_type": "code",
   "execution_count": 20,
   "id": "b875a7d5",
   "metadata": {},
   "outputs": [
    {
     "name": "stderr",
     "output_type": "stream",
     "text": [
      "INFO:root:Saving to /Users/sburton/git/datathink/trelliscope-python/trelliscope/examples/../../test-build-output/mars_rover\n",
      "DEBUG:root:Inferring Metas: {'camera', 'earth_date', 'img_src', 'class', 'sol'}\n",
      "DEBUG:root:Successfully inferred metas: ['camera', 'earth_date', 'img_src', 'class', 'sol']\n",
      "INFO:root:No layout definition supplied. Using Default.\n",
      "INFO:root:No labels definition supplied. Using Default.\n",
      "INFO:root:Using img_src col as an image panel.\n"
     ]
    },
    {
     "name": "stdout",
     "output_type": "stream",
     "text": [
      "Writing dataset to /Users/sburton/git/datathink/trelliscope-python/trelliscope/examples/../../test-build-output\n"
     ]
    },
    {
     "data": {
      "text/plain": [
       "A trelliscope display\n",
       "* Name: Mars Rover\n",
       "* Description: Mars Rover\n",
       "* Tags: None\n",
       "* Key columns: []\n",
       "---\n",
       "* Path: /Users/sburton/git/datathink/trelliscope-python/trelliscope/examples/../../test-build-output\n",
       "* Number of panels: 1245\n",
       "* Panels written: no\n",
       "---\n",
       "* Meta Info:"
      ]
     },
     "execution_count": 20,
     "metadata": {},
     "output_type": "execute_result"
    }
   ],
   "source": [
    "# Write display\n",
    "print(f\"Writing dataset to {output_dir}\")\n",
    "tr.write_display()"
   ]
  },
  {
   "cell_type": "code",
   "execution_count": 22,
   "id": "168b59c8",
   "metadata": {},
   "outputs": [],
   "source": [
    "from IPython.display import display"
   ]
  },
  {
   "cell_type": "code",
   "execution_count": 26,
   "id": "b675505a",
   "metadata": {},
   "outputs": [
    {
     "name": "stdout",
     "output_type": "stream",
     "text": [
      "/Users/sburton/git/datathink/trelliscope-python/trelliscope/examples/../../test-build-output/mars_rover/index.html\n"
     ]
    }
   ],
   "source": [
    "trelliscope_index_file = os.path.join(tr.get_output_path(), \"index.html\")\n",
    "print(trelliscope_index_file)"
   ]
  },
  {
   "cell_type": "code",
   "execution_count": 30,
   "id": "51f33f60",
   "metadata": {},
   "outputs": [],
   "source": [
    "display(filename=trelliscope_index_file)\n"
   ]
  },
  {
   "cell_type": "code",
   "execution_count": 35,
   "id": "729c2a97",
   "metadata": {},
   "outputs": [
    {
     "data": {
      "text/html": [
       "<!DOCTYPE html>\n",
       "<html lang=\"en\">\n",
       "<head>\n",
       "<meta charset=\"utf-8\"/>\n",
       "<style>body{background-color:white;}</style>\n",
       "<script src=\"lib/htmlwidgets-1.6.2/htmlwidgets.js\"></script>\n",
       "<link href=\"lib/trelliscope_widget-0.6.0/css/main.ad4a7154.css\" rel=\"stylesheet\" />\n",
       "<script src=\"lib/trelliscope_widget-0.6.0/js/main.0084bd3e.js\"></script>\n",
       "<script src=\"lib/trelliscope_widget-binding-0.1.0/trelliscope_widget.js\"></script>\n",
       "\n",
       "</head>\n",
       "<body>\n",
       "    Trelliscope file...\n",
       "<div id=\"htmlwidget-e5bd71f43f0a4b6192d84ff07ede4513\" style=\"width:100vw;height:100vh;\" class=\"trelliscope_widget html-widget \"></div>\n",
       "<script type=\"application/json\" data-for=\"htmlwidget-e5bd71f43f0a4b6192d84ff07ede4513\">{\"x\": {\"id\": \"395c8291\", \"config_info\": \"config.jsonp\", \"spa\": true}, \"evals\": [], \"jsHooks\": []}</script>\n",
       "</body>\n",
       "</html>\n"
      ],
      "text/plain": [
       "<IPython.core.display.HTML object>"
      ]
     },
     "execution_count": 35,
     "metadata": {},
     "output_type": "execute_result"
    }
   ],
   "source": [
    "from IPython.display import HTML\n",
    "HTML(filename=\"index.html\")"
   ]
  },
  {
   "cell_type": "code",
   "execution_count": 32,
   "id": "17bcac8f",
   "metadata": {},
   "outputs": [
    {
     "data": {
      "text/plain": [
       "'/Users/sburton/git/datathink/trelliscope-python/trelliscope/examples'"
      ]
     },
     "execution_count": 32,
     "metadata": {},
     "output_type": "execute_result"
    }
   ],
   "source": [
    "os.getcwd()"
   ]
  },
  {
   "cell_type": "code",
   "execution_count": 33,
   "id": "4874dfed",
   "metadata": {},
   "outputs": [],
   "source": [
    "os.chdir(\"/Users/sburton/git/datathink/trelliscope-python/trelliscope/examples/../../test-build-output/mars_rover/\")"
   ]
  },
  {
   "cell_type": "code",
   "execution_count": 34,
   "id": "a0b94a3f",
   "metadata": {},
   "outputs": [
    {
     "data": {
      "text/plain": [
       "'/Users/sburton/git/datathink/trelliscope-python/test-build-output/mars_rover'"
      ]
     },
     "execution_count": 34,
     "metadata": {},
     "output_type": "execute_result"
    }
   ],
   "source": [
    "os.getcwd()"
   ]
  },
  {
   "cell_type": "code",
   "execution_count": null,
   "id": "3a445508",
   "metadata": {},
   "outputs": [],
   "source": []
  }
 ],
 "metadata": {
  "kernelspec": {
   "display_name": "Python 3 (ipykernel)",
   "language": "python",
   "name": "python3"
  },
  "language_info": {
   "codemirror_mode": {
    "name": "ipython",
    "version": 3
   },
   "file_extension": ".py",
   "mimetype": "text/x-python",
   "name": "python",
   "nbconvert_exporter": "python",
   "pygments_lexer": "ipython3",
   "version": "3.11.2"
  }
 },
 "nbformat": 4,
 "nbformat_minor": 5
}
