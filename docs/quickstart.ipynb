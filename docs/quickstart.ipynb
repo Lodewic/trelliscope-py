{
 "cells": [
  {
   "cell_type": "markdown",
   "source": [
    "# Quickstart"
   ],
   "metadata": {
    "collapsed": false
   },
   "id": "3c674101a1106ffe"
  },
  {
   "cell_type": "markdown",
   "source": [
    "This repository contains an experimental Python port of the trelliscope R package. It is currently under heavy development.\n",
    "\n",
    "To obtain the library while it is under heavy development:\n",
    "    \n",
    "```shell\n",
    "pip install git+https://github.com/trelliscope/trelliscope-py\n",
    "```\n",
    "\n",
    "If you are interested in working on development of the Trelliscope library itself, see the [Contributing](./contributing.html) section.\n"
   ],
   "metadata": {
    "collapsed": false
   },
   "id": "7a8f089d18570fd"
  },
  {
   "cell_type": "markdown",
   "id": "32126697-c016-42cf-88e4-d250bfb275c7",
   "metadata": {},
   "source": [
    "## Embed Trelliscope in Notebooks\n",
    "\n",
    "This example shows how Trelliscope widgets can be shown within Jupyter notebooks, even from remote locations. However, this is not yet working for the latest version of trelliscopejs-lib. As such, this example shows the intended goal."
   ]
  },
  {
   "cell_type": "code",
   "execution_count": null,
   "id": "29ba4898-7b23-4a3b-b620-c3e9f3305496",
   "metadata": {},
   "outputs": [],
   "source": [
    "from IPython import display"
   ]
  },
  {
   "cell_type": "markdown",
   "id": "06b86f5a-0d52-4f73-bf55-3c6fd86021bc",
   "metadata": {},
   "source": [
    "### TODO: Use the latest Trelliscope-lib version\n",
    "\n",
    "The latest version of Trelliscope uses new data schemas and is packaged differently."
   ]
  },
  {
   "cell_type": "markdown",
   "id": "7adfd9eb-e90a-4b40-90aa-c160d69da19c",
   "metadata": {},
   "source": [
    "### Old way\n",
    "\n",
    "Using an old version of trelliscopejs-lib we can embed the widget in notebooks by displaying the HTML. For this we follow instructions from the TrelliscopeJS documentation here: https://hafen.github.io/trelliscopejs/articles/trelliscopejs.html#embedding-trelliscopejs-apps\n",
    "\n",
    "This can be wrapped into an easy widget. But, how does this work with the latest versions of Trelliscope?"
   ]
  },
  {
   "cell_type": "markdown",
   "id": "803298a3-fbe0-41a4-a66a-7d3d4a9413fd",
   "metadata": {},
   "source": [
    "### Housing demo"
   ]
  },
  {
   "cell_type": "code",
   "execution_count": null,
   "id": "d1511b02-5df0-455b-a4be-69b594a335fd",
   "metadata": {},
   "outputs": [],
   "source": [
    "html_string = \"\"\"\n",
    "<head>\n",
    "<meta charset=\"utf-8\"/>\n",
    "<script src=\"https://unpkg.com/trelliscopejs-lib@0.1.12/dist/trelliscope.min.js\"></script>\n",
    "\n",
    "</head>\n",
    "<body>\n",
    "<div id=\"8a43f2dd\" class=\"trelliscope-not-spa\" style=\"width:100%; height:500px;\"></div>\n",
    "<script>\n",
    "  (function() {\n",
    "    trelliscopeApp('8a43f2dd',\n",
    "      'http://hafen.github.io/trelliscopejs-demo/housing/appfiles/config.jsonp');\n",
    "  })();\n",
    "</script>\n",
    "</body>\n",
    "\"\"\"\n",
    "display.HTML(html_string)"
   ]
  },
  {
   "cell_type": "markdown",
   "id": "e8541622-4d68-4675-b8c7-e2a46b9f5013",
   "metadata": {},
   "source": [
    "### Gapminder demo"
   ]
  },
  {
   "cell_type": "code",
   "execution_count": null,
   "id": "a21766cc-3383-4b00-9e09-ca3b97c414cd",
   "metadata": {},
   "outputs": [],
   "source": [
    "html_string = \"\"\"\n",
    "<head>\n",
    "<meta charset=\"utf-8\"/>\n",
    "<script src=\"https://unpkg.com/trelliscopejs-lib@0.1.12/dist/trelliscope.min.js\"></script>\n",
    "\n",
    "</head>\n",
    "<body>\n",
    "<div id=\"32b2482a\" class=\"trelliscope-not-spa\" style=\"width:100%; height:500px;\"></div>\n",
    "<script>\n",
    "  (function() {\n",
    "    trelliscopeApp('32b2482a',\n",
    "      'http://hafen.github.io/trelliscopejs-demo/gapminder/appfiles/config.jsonp');\n",
    "  })();\n",
    "</script>\n",
    "</body>\n",
    "\"\"\"\n",
    "display.HTML(html_string)"
   ]
  },
  {
   "cell_type": "markdown",
   "id": "1e85d132-5c0e-4d5c-a6a3-a88a3cb6528a",
   "metadata": {},
   "source": [
    "## Pokemon"
   ]
  },
  {
   "cell_type": "code",
   "execution_count": null,
   "id": "f7c75178-bc6c-46e9-b12f-3ef4830805ad",
   "metadata": {},
   "outputs": [],
   "source": [
    "html_string = \"\"\"\n",
    "<head>\n",
    "<meta charset=\"utf-8\"/>\n",
    "<script src=\"https://unpkg.com/trelliscopejs-lib@0.1.12/dist/trelliscope.min.js\"></script>\n",
    "\n",
    "</head>\n",
    "<body>\n",
    "<div id=\"aa7b91b4\" class=\"trelliscope-not-spa\" style=\"width:100%; height:500px;\"></div>\n",
    "<script>\n",
    "  (function() {\n",
    "    trelliscopeApp('aa7b91b4',\n",
    "      'http://hafen.github.io/trelliscopejs-demo/pokemon/appfiles/config.jsonp');\n",
    "  })();\n",
    "</script>\n",
    "</body>\n",
    "\"\"\"\n",
    "display.HTML(html_string)"
   ]
  },
  {
   "cell_type": "code",
   "execution_count": null,
   "id": "a40c788f-9b0c-4eb9-8335-4ef1ba3d7d8f",
   "metadata": {},
   "outputs": [],
   "source": []
  }
 ],
 "metadata": {
  "kernelspec": {
   "display_name": "Python [conda env:trelliscope-py]",
   "language": "python",
   "name": "conda-env-trelliscope-py-py"
  },
  "language_info": {
   "codemirror_mode": {
    "name": "ipython",
    "version": 3
   },
   "file_extension": ".py",
   "mimetype": "text/x-python",
   "name": "python",
   "nbconvert_exporter": "python",
   "pygments_lexer": "ipython3",
   "version": "3.10.13"
  }
 },
 "nbformat": 4,
 "nbformat_minor": 5
}
