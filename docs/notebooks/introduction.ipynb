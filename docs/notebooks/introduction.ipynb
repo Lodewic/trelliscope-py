{
 "cells": [
  {
   "cell_type": "markdown",
   "metadata": {},
   "source": [
    "# Introduction to the Trelliscope Python Package\n",
    "Trelliscope provides a simple mechanism to make a collection of visualizations and display them as interactive [small multiples](https://en.wikipedia.org/wiki/Small_multiple).\n",
    "\n",
    "For more information about Trelliscopes generally, please refer to the [Introduction to Trelliscope](https://trelliscope.org/trelliscope/articles/trelliscope.html) page that shows the R library syntax. This page will highlight the Python version of the library."
   ]
  },
  {
   "cell_type": "markdown",
   "metadata": {},
   "source": [
    "## Pre-Generated Images\n",
    "The basic principle behind the Trelliscope package is that you specify a data frame that contains figures or images. We refer to each plot (row) of a given visualization (column) as a **panel**, and hence will often refer to a visualization column as a collection of panels.\n",
    "\n",
    "The simplest way to illustrate what is meant by a data frame of visualizations is to start with an example where the images have already been generated.\n",
    "\n",
    "An example dataset that comes with the package contains images captured by the Mars rover Curiosity."
   ]
  },
  {
   "cell_type": "code",
   "execution_count": 1,
   "metadata": {},
   "outputs": [],
   "source": [
    "# import necessary libraries\n",
    "import os\n",
    "import pandas as pd\n",
    "from trelliscope import Trelliscope"
   ]
  },
  {
   "cell_type": "code",
   "execution_count": 2,
   "metadata": {},
   "outputs": [
    {
     "name": "stdout",
     "output_type": "stream",
     "text": [
      "                  camera  sol  earth_date    class  \\\n",
      "0  Mars Hand Lens Imager  565  2014-03-09  horizon   \n",
      "1  Mars Hand Lens Imager  565  2014-03-09  horizon   \n",
      "2  Mars Hand Lens Imager  568  2014-03-12    wheel   \n",
      "3  Mars Hand Lens Imager  568  2014-03-12    wheel   \n",
      "4  Mars Hand Lens Imager  568  2014-03-12    wheel   \n",
      "\n",
      "                                             img_src  \n",
      "0  http://mars.jpl.nasa.gov/msl-raw-images/msss/0...  \n",
      "1  http://mars.jpl.nasa.gov/msl-raw-images/msss/0...  \n",
      "2  http://mars.jpl.nasa.gov/msl-raw-images/msss/0...  \n",
      "3  http://mars.jpl.nasa.gov/msl-raw-images/msss/0...  \n",
      "4  http://mars.jpl.nasa.gov/msl-raw-images/msss/0...  \n"
     ]
    }
   ],
   "source": [
    "# The mars rover dataset is in the trelliscope/examples/external_data folder\n",
    "mars_file = os.path.join(\"external_data\", \"mars_rover.csv\")\n",
    "mars_df = pd.read_csv(mars_file)\n",
    "print(mars_df.head())"
   ]
  },
  {
   "cell_type": "markdown",
   "metadata": {},
   "source": [
    "## Creating and Viewing a Trelliscope\n",
    "This data frame has a column that references images on the web, img_src. The other columns contain metadata about these images. We can create a Trelliscope object, write its display information out to the file system, and view it in a browser with the following:"
   ]
  },
  {
   "cell_type": "code",
   "execution_count": 3,
   "metadata": {},
   "outputs": [
    {
     "name": "stderr",
     "output_type": "stream",
     "text": [
      "INFO:root:Using ['camera', 'earth_date', 'class', 'img_src'] to uniquely identify each row of the data.\n",
      "INFO:root:Saving to /var/folders/sd/q0zvkr053gn240n3g__01pn95pw3zf/T/tmpyv2xt2z5/mars_rover\n",
      "DEBUG:root:Inferring Metas: {'camera', 'class', 'img_src', 'earth_date', 'sol'}\n",
      "DEBUG:root:Successfully inferred metas: ['camera', 'class', 'img_src', 'earth_date', 'sol']\n",
      "INFO:root:No layout definition supplied. Using Default.\n",
      "INFO:root:No labels definition supplied. Using Default.\n",
      "INFO:root:Trelliscope written to `/var/folders/sd/q0zvkr053gn240n3g__01pn95pw3zf/T/tmpyv2xt2z5/mars_rover`\n"
     ]
    }
   ],
   "source": [
    "tr = (Trelliscope(mars_df, name=\"Mars Rover\")\n",
    "        .write_display()\n",
    "        .view_trelliscope()\n",
    ")"
   ]
  },
  {
   "cell_type": "code",
   "execution_count": null,
   "metadata": {},
   "outputs": [],
   "source": []
  },
  {
   "cell_type": "markdown",
   "metadata": {},
   "source": [
    "## Creating Panel Columns\n",
    "The previous example shows how to create and view a trelliscope with pre-existing images. The following example shows a more likely use case where we are interesting a creating and viewing plots using Plotly Express.\n"
   ]
  },
  {
   "cell_type": "markdown",
   "metadata": {},
   "source": [
    "First, we will import a handful of libraries additional libraries used in this example."
   ]
  },
  {
   "cell_type": "code",
   "execution_count": 4,
   "metadata": {},
   "outputs": [],
   "source": [
    "# import necessary libraries\n",
    "import os\n",
    "import tempfile\n",
    "import urllib.request\n",
    "import zipfile\n",
    "import pandas as pd\n",
    "import plotly.express as px\n",
    "\n",
    "from trelliscope import Trelliscope\n",
    "from trelliscope.facets import facet_panels\n",
    "from trelliscope.state import NumberRangeFilterState"
   ]
  },
  {
   "cell_type": "code",
   "execution_count": 5,
   "metadata": {},
   "outputs": [],
   "source": [
    "# set up some constants for the example\n",
    "use_small_dataset = True"
   ]
  },
  {
   "cell_type": "markdown",
   "metadata": {},
   "source": [
    "### Load the Dataset\n",
    "This example will use a version of the gapminder dataset included with the trelliscope library."
   ]
  },
  {
   "cell_type": "code",
   "execution_count": 6,
   "metadata": {},
   "outputs": [],
   "source": [
    "# Load the dataset\n",
    "gapminder_file = os.path.join(\"external_data\", \"gapminder.csv\")\n",
    "gapminder = pd.read_csv(gapminder_file)\n",
    "\n",
    "if use_small_dataset:\n",
    "    df = gapminder[:200]\n",
    "else:\n",
    "    df = gapminder\n"
   ]
  },
  {
   "cell_type": "markdown",
   "metadata": {},
   "source": [
    "### Build panels using `facet_panels`\n",
    "The `facet_panels` function does a _group by_ and applies a plot function to each of the groups. One way to think about this is that the group by creates a number of small data frames, and then uses the px.scatter function to create a plot for each of these small data frames.\n",
    "\n",
    "Inspecting the resulting data frame shows that it has been grouped by the appropriate columns and that there is also an image column that is a Plotly Express figure."
   ]
  },
  {
   "cell_type": "code",
   "execution_count": 7,
   "metadata": {},
   "outputs": [
    {
     "data": {
      "text/html": [
       "<div>\n",
       "<style scoped>\n",
       "    .dataframe tbody tr th:only-of-type {\n",
       "        vertical-align: middle;\n",
       "    }\n",
       "\n",
       "    .dataframe tbody tr th {\n",
       "        vertical-align: top;\n",
       "    }\n",
       "\n",
       "    .dataframe thead th {\n",
       "        text-align: right;\n",
       "    }\n",
       "</style>\n",
       "<table border=\"1\" class=\"dataframe\">\n",
       "  <thead>\n",
       "    <tr style=\"text-align: right;\">\n",
       "      <th></th>\n",
       "      <th></th>\n",
       "      <th></th>\n",
       "      <th>lifeExp_time</th>\n",
       "    </tr>\n",
       "    <tr>\n",
       "      <th>country</th>\n",
       "      <th>continent</th>\n",
       "      <th>iso_alpha2</th>\n",
       "      <th></th>\n",
       "    </tr>\n",
       "  </thead>\n",
       "  <tbody>\n",
       "    <tr>\n",
       "      <th>Afghanistan</th>\n",
       "      <th>Asia</th>\n",
       "      <th>AF</th>\n",
       "      <td>Figure({\\n    'data': [{'hovertemplate': 'year...</td>\n",
       "    </tr>\n",
       "    <tr>\n",
       "      <th>Albania</th>\n",
       "      <th>Europe</th>\n",
       "      <th>AL</th>\n",
       "      <td>Figure({\\n    'data': [{'hovertemplate': 'year...</td>\n",
       "    </tr>\n",
       "    <tr>\n",
       "      <th>Algeria</th>\n",
       "      <th>Africa</th>\n",
       "      <th>DZ</th>\n",
       "      <td>Figure({\\n    'data': [{'hovertemplate': 'year...</td>\n",
       "    </tr>\n",
       "    <tr>\n",
       "      <th>Angola</th>\n",
       "      <th>Africa</th>\n",
       "      <th>AO</th>\n",
       "      <td>Figure({\\n    'data': [{'hovertemplate': 'year...</td>\n",
       "    </tr>\n",
       "    <tr>\n",
       "      <th>Argentina</th>\n",
       "      <th>Americas</th>\n",
       "      <th>AR</th>\n",
       "      <td>Figure({\\n    'data': [{'hovertemplate': 'year...</td>\n",
       "    </tr>\n",
       "    <tr>\n",
       "      <th>Australia</th>\n",
       "      <th>Oceania</th>\n",
       "      <th>AU</th>\n",
       "      <td>Figure({\\n    'data': [{'hovertemplate': 'year...</td>\n",
       "    </tr>\n",
       "    <tr>\n",
       "      <th>Austria</th>\n",
       "      <th>Europe</th>\n",
       "      <th>AT</th>\n",
       "      <td>Figure({\\n    'data': [{'hovertemplate': 'year...</td>\n",
       "    </tr>\n",
       "    <tr>\n",
       "      <th>Bahrain</th>\n",
       "      <th>Asia</th>\n",
       "      <th>BH</th>\n",
       "      <td>Figure({\\n    'data': [{'hovertemplate': 'year...</td>\n",
       "    </tr>\n",
       "    <tr>\n",
       "      <th>Bangladesh</th>\n",
       "      <th>Asia</th>\n",
       "      <th>BD</th>\n",
       "      <td>Figure({\\n    'data': [{'hovertemplate': 'year...</td>\n",
       "    </tr>\n",
       "    <tr>\n",
       "      <th>Belgium</th>\n",
       "      <th>Europe</th>\n",
       "      <th>BE</th>\n",
       "      <td>Figure({\\n    'data': [{'hovertemplate': 'year...</td>\n",
       "    </tr>\n",
       "    <tr>\n",
       "      <th>Benin</th>\n",
       "      <th>Africa</th>\n",
       "      <th>BJ</th>\n",
       "      <td>Figure({\\n    'data': [{'hovertemplate': 'year...</td>\n",
       "    </tr>\n",
       "    <tr>\n",
       "      <th>Bosnia and Herzegovina</th>\n",
       "      <th>Europe</th>\n",
       "      <th>BA</th>\n",
       "      <td>Figure({\\n    'data': [{'hovertemplate': 'year...</td>\n",
       "    </tr>\n",
       "    <tr>\n",
       "      <th>Botswana</th>\n",
       "      <th>Africa</th>\n",
       "      <th>BW</th>\n",
       "      <td>Figure({\\n    'data': [{'hovertemplate': 'year...</td>\n",
       "    </tr>\n",
       "    <tr>\n",
       "      <th>Brazil</th>\n",
       "      <th>Americas</th>\n",
       "      <th>BR</th>\n",
       "      <td>Figure({\\n    'data': [{'hovertemplate': 'year...</td>\n",
       "    </tr>\n",
       "    <tr>\n",
       "      <th>Bulgaria</th>\n",
       "      <th>Europe</th>\n",
       "      <th>BG</th>\n",
       "      <td>Figure({\\n    'data': [{'hovertemplate': 'year...</td>\n",
       "    </tr>\n",
       "    <tr>\n",
       "      <th>Burkina Faso</th>\n",
       "      <th>Africa</th>\n",
       "      <th>BF</th>\n",
       "      <td>Figure({\\n    'data': [{'hovertemplate': 'year...</td>\n",
       "    </tr>\n",
       "    <tr>\n",
       "      <th>Burundi</th>\n",
       "      <th>Africa</th>\n",
       "      <th>BI</th>\n",
       "      <td>Figure({\\n    'data': [{'hovertemplate': 'year...</td>\n",
       "    </tr>\n",
       "  </tbody>\n",
       "</table>\n",
       "</div>"
      ],
      "text/plain": [
       "                                                                                  lifeExp_time\n",
       "country                continent iso_alpha2                                                   \n",
       "Afghanistan            Asia      AF          Figure({\\n    'data': [{'hovertemplate': 'year...\n",
       "Albania                Europe    AL          Figure({\\n    'data': [{'hovertemplate': 'year...\n",
       "Algeria                Africa    DZ          Figure({\\n    'data': [{'hovertemplate': 'year...\n",
       "Angola                 Africa    AO          Figure({\\n    'data': [{'hovertemplate': 'year...\n",
       "Argentina              Americas  AR          Figure({\\n    'data': [{'hovertemplate': 'year...\n",
       "Australia              Oceania   AU          Figure({\\n    'data': [{'hovertemplate': 'year...\n",
       "Austria                Europe    AT          Figure({\\n    'data': [{'hovertemplate': 'year...\n",
       "Bahrain                Asia      BH          Figure({\\n    'data': [{'hovertemplate': 'year...\n",
       "Bangladesh             Asia      BD          Figure({\\n    'data': [{'hovertemplate': 'year...\n",
       "Belgium                Europe    BE          Figure({\\n    'data': [{'hovertemplate': 'year...\n",
       "Benin                  Africa    BJ          Figure({\\n    'data': [{'hovertemplate': 'year...\n",
       "Bosnia and Herzegovina Europe    BA          Figure({\\n    'data': [{'hovertemplate': 'year...\n",
       "Botswana               Africa    BW          Figure({\\n    'data': [{'hovertemplate': 'year...\n",
       "Brazil                 Americas  BR          Figure({\\n    'data': [{'hovertemplate': 'year...\n",
       "Bulgaria               Europe    BG          Figure({\\n    'data': [{'hovertemplate': 'year...\n",
       "Burkina Faso           Africa    BF          Figure({\\n    'data': [{'hovertemplate': 'year...\n",
       "Burundi                Africa    BI          Figure({\\n    'data': [{'hovertemplate': 'year..."
      ]
     },
     "execution_count": 7,
     "metadata": {},
     "output_type": "execute_result"
    }
   ],
   "source": [
    "# Use facet_panels to create a Plotly Express graphic for each small data frame\n",
    "panel_df = facet_panels(df, \"lifeExp_time\", [\"country\", \"continent\", \"iso_alpha2\"], px.scatter, {\"x\": \"year\", \"y\": \"lifeExp\"})\n",
    "\n",
    "# Inspecting panel_df shows a dataset grouped by `country`, `continent`, and `iso_alpha2`.\n",
    "# Notice that there is also a `lifeExp_time` column that is a plotly express figure\n",
    "panel_df"
   ]
  },
  {
   "cell_type": "code",
   "execution_count": 8,
   "metadata": {},
   "outputs": [
    {
     "name": "stderr",
     "output_type": "stream",
     "text": [
      "INFO:root:Using ['country', 'continent', 'iso_alpha2'] to uniquely identify each row of the data.\n",
      "INFO:root:Saving to /var/folders/sd/q0zvkr053gn240n3g__01pn95pw3zf/T/tmpuqlp_9hu/gapminder\n",
      "DEBUG:root:Saving image /var/folders/sd/q0zvkr053gn240n3g__01pn95pw3zf/T/tmpuqlp_9hu/gapminder/displays/Gapminder/panels/lifeexp_time/afghanistan_asia_af.png\n",
      "DEBUG:root:Saving image /var/folders/sd/q0zvkr053gn240n3g__01pn95pw3zf/T/tmpuqlp_9hu/gapminder/displays/Gapminder/panels/lifeexp_time/albania_europe_al.png\n",
      "DEBUG:root:Saving image /var/folders/sd/q0zvkr053gn240n3g__01pn95pw3zf/T/tmpuqlp_9hu/gapminder/displays/Gapminder/panels/lifeexp_time/algeria_africa_dz.png\n",
      "DEBUG:root:Saving image /var/folders/sd/q0zvkr053gn240n3g__01pn95pw3zf/T/tmpuqlp_9hu/gapminder/displays/Gapminder/panels/lifeexp_time/angola_africa_ao.png\n",
      "DEBUG:root:Saving image /var/folders/sd/q0zvkr053gn240n3g__01pn95pw3zf/T/tmpuqlp_9hu/gapminder/displays/Gapminder/panels/lifeexp_time/argentina_americas_ar.png\n",
      "DEBUG:root:Saving image /var/folders/sd/q0zvkr053gn240n3g__01pn95pw3zf/T/tmpuqlp_9hu/gapminder/displays/Gapminder/panels/lifeexp_time/australia_oceania_au.png\n",
      "DEBUG:root:Saving image /var/folders/sd/q0zvkr053gn240n3g__01pn95pw3zf/T/tmpuqlp_9hu/gapminder/displays/Gapminder/panels/lifeexp_time/austria_europe_at.png\n",
      "DEBUG:root:Saving image /var/folders/sd/q0zvkr053gn240n3g__01pn95pw3zf/T/tmpuqlp_9hu/gapminder/displays/Gapminder/panels/lifeexp_time/bahrain_asia_bh.png\n",
      "DEBUG:root:Saving image /var/folders/sd/q0zvkr053gn240n3g__01pn95pw3zf/T/tmpuqlp_9hu/gapminder/displays/Gapminder/panels/lifeexp_time/bangladesh_asia_bd.png\n",
      "DEBUG:root:Saving image /var/folders/sd/q0zvkr053gn240n3g__01pn95pw3zf/T/tmpuqlp_9hu/gapminder/displays/Gapminder/panels/lifeexp_time/belgium_europe_be.png\n",
      "DEBUG:root:Saving image /var/folders/sd/q0zvkr053gn240n3g__01pn95pw3zf/T/tmpuqlp_9hu/gapminder/displays/Gapminder/panels/lifeexp_time/benin_africa_bj.png\n",
      "DEBUG:root:Saving image /var/folders/sd/q0zvkr053gn240n3g__01pn95pw3zf/T/tmpuqlp_9hu/gapminder/displays/Gapminder/panels/lifeexp_time/bosnia_and_herzegovina_europe_ba.png\n",
      "DEBUG:root:Saving image /var/folders/sd/q0zvkr053gn240n3g__01pn95pw3zf/T/tmpuqlp_9hu/gapminder/displays/Gapminder/panels/lifeexp_time/botswana_africa_bw.png\n",
      "DEBUG:root:Saving image /var/folders/sd/q0zvkr053gn240n3g__01pn95pw3zf/T/tmpuqlp_9hu/gapminder/displays/Gapminder/panels/lifeexp_time/brazil_americas_br.png\n",
      "DEBUG:root:Saving image /var/folders/sd/q0zvkr053gn240n3g__01pn95pw3zf/T/tmpuqlp_9hu/gapminder/displays/Gapminder/panels/lifeexp_time/bulgaria_europe_bg.png\n",
      "DEBUG:root:Saving image /var/folders/sd/q0zvkr053gn240n3g__01pn95pw3zf/T/tmpuqlp_9hu/gapminder/displays/Gapminder/panels/lifeexp_time/burkina_faso_africa_bf.png\n",
      "DEBUG:root:Saving image /var/folders/sd/q0zvkr053gn240n3g__01pn95pw3zf/T/tmpuqlp_9hu/gapminder/displays/Gapminder/panels/lifeexp_time/burundi_africa_bi.png\n",
      "DEBUG:root:Inferring Metas: {'iso_alpha2', 'country', 'continent', 'lifeExp_time__FIGURE', 'lifeExp_time'}\n",
      "DEBUG:root:Successfully inferred metas: ['iso_alpha2', 'country', 'continent', 'lifeExp_time']\n",
      "INFO:root:No layout definition supplied. Using Default.\n",
      "INFO:root:No labels definition supplied. Using Default.\n",
      "INFO:root:Trelliscope written to `/var/folders/sd/q0zvkr053gn240n3g__01pn95pw3zf/T/tmpuqlp_9hu/gapminder`\n"
     ]
    }
   ],
   "source": [
    "# A trelliscope can be prepared and viewed for this data frame\n",
    "tr = (Trelliscope(panel_df, \"Gapminder\")\n",
    "      .write_display()\n",
    "      .view_trelliscope()\n",
    ")"
   ]
  },
  {
   "cell_type": "markdown",
   "metadata": {},
   "source": [
    "### Add additional meta columns to the dataframe\n",
    "To help with the analysis, we may want additional, meta columns. There is nothing here that is unique to Trelliscope, but rather this is a traditional data wrangling task such as adding summary statistics."
   ]
  },
  {
   "cell_type": "code",
   "execution_count": 9,
   "metadata": {},
   "outputs": [],
   "source": [
    "meta_df = df.groupby([\"country\", \"continent\", \"iso_alpha2\"]).agg(\n",
    "    mean_lifeExp = (\"lifeExp\", \"mean\"),\n",
    "    min_lifeExp = (\"lifeExp\", \"min\"),\n",
    "    max_lifeExp = (\"lifeExp\", \"max\"),\n",
    "    mean_gdp = (\"gdpPercap\", \"mean\"),\n",
    "    first_year = (\"year\", \"min\"),\n",
    "    latitude = (\"latitude\", \"first\"),\n",
    "    longitude = (\"longitude\", \"first\")\n",
    ")\n",
    "\n",
    "meta_df = meta_df.reset_index()\n",
    "meta_df[\"first_date\"] = pd.to_datetime(meta_df[\"first_year\"], format='%Y')\n",
    "meta_df[\"wiki\"] = meta_df[\"country\"].apply(lambda x: f\"https://en.wikipedia.org/wiki/{x}\")\n",
    "meta_df[\"country\"] = meta_df[\"country\"].astype(\"category\")\n",
    "meta_df[\"continent\"] = meta_df[\"continent\"].astype(\"category\")\n"
   ]
  },
  {
   "cell_type": "markdown",
   "metadata": {},
   "source": [
    "### Additional image columns\n",
    "In addition to the meta columns, we can add additional image columns referring to URLs of online images or paths to local files. The following code downloads and extracts a zip file of flag images and also refers to online URLs to show both approaches."
   ]
  },
  {
   "cell_type": "code",
   "execution_count": 10,
   "metadata": {},
   "outputs": [
    {
     "name": "stdout",
     "output_type": "stream",
     "text": [
      "       country                                               flag  \\\n",
      "0  Afghanistan  /var/folders/sd/q0zvkr053gn240n3g__01pn95pw3zf...   \n",
      "1      Albania  /var/folders/sd/q0zvkr053gn240n3g__01pn95pw3zf...   \n",
      "2      Algeria  /var/folders/sd/q0zvkr053gn240n3g__01pn95pw3zf...   \n",
      "3       Angola  /var/folders/sd/q0zvkr053gn240n3g__01pn95pw3zf...   \n",
      "4    Argentina  /var/folders/sd/q0zvkr053gn240n3g__01pn95pw3zf...   \n",
      "\n",
      "                                            flag_url  \n",
      "0  https://raw.githubusercontent.com/hafen/countr...  \n",
      "1  https://raw.githubusercontent.com/hafen/countr...  \n",
      "2  https://raw.githubusercontent.com/hafen/countr...  \n",
      "3  https://raw.githubusercontent.com/hafen/countr...  \n",
      "4  https://raw.githubusercontent.com/hafen/countr...  \n"
     ]
    }
   ],
   "source": [
    "# Download and extract flag images to a temporary directory\n",
    "(zip_file, _) = urllib.request.urlretrieve(\"https://github.com/trelliscope/trelliscope/files/12265140/flags.zip\")\n",
    "local_flags_path = os.path.join(tempfile.mkdtemp(), \"temp_flag_images\")\n",
    "\n",
    "with zipfile.ZipFile(zip_file, 'r') as zip_ref:\n",
    "    zip_ref.extractall(local_flags_path)\n",
    "\n",
    "# The flag column will hold references to the local files\n",
    "meta_df[\"flag\"] = meta_df[\"iso_alpha2\"].apply(lambda x: os.path.join(local_flags_path, f\"{x}.png\"))\n",
    "\n",
    "# The `flag_base_url` column will hold references to the remote URLs\n",
    "flag_base_url = \"https://raw.githubusercontent.com/hafen/countryflags/master/png/512/\"\n",
    "meta_df[\"flag_url\"] = meta_df[\"iso_alpha2\"].apply(lambda x: f\"{flag_base_url}{x}.png\")\n",
    "\n",
    "print(meta_df[[\"country\",\"flag\", \"flag_url\"]].head())"
   ]
  },
  {
   "cell_type": "markdown",
   "metadata": {},
   "source": [
    "### Join the meta dataframe and the earlier panel dataframe.\n",
    "Notice that if the index columns on each of these dataframes match they can be easily joined by Pandas."
   ]
  },
  {
   "cell_type": "code",
   "execution_count": 11,
   "metadata": {},
   "outputs": [],
   "source": [
    "meta_df = meta_df.set_index([\"country\", \"continent\", \"iso_alpha2\"])\n",
    "\n",
    "joined_df = meta_df.join(panel_df)"
   ]
  },
  {
   "cell_type": "markdown",
   "metadata": {},
   "source": [
    "### Create and view another Trelliscope, this time with the additional meta and image columns\n",
    "When viewing this Trelliscope, notice that there are 3 different panels, one that is the plot of the Life Expectancy vs Time, and then two others for the flag images. The additional panels can be seen either by switching to a table view, or by selecting the \"down arrow\" in the top left corner of any of the panel images."
   ]
  },
  {
   "cell_type": "code",
   "execution_count": 12,
   "metadata": {},
   "outputs": [
    {
     "name": "stderr",
     "output_type": "stream",
     "text": [
      "INFO:root:Using ['country', 'continent', 'iso_alpha2'] to uniquely identify each row of the data.\n",
      "INFO:root:Saving to /var/folders/sd/q0zvkr053gn240n3g__01pn95pw3zf/T/tmpqh152fxn/gapminder\n",
      "DEBUG:root:Saving image /var/folders/sd/q0zvkr053gn240n3g__01pn95pw3zf/T/tmpqh152fxn/gapminder/displays/Gapminder/panels/lifeexp_time/afghanistan_asia_af.png\n",
      "DEBUG:root:Saving image /var/folders/sd/q0zvkr053gn240n3g__01pn95pw3zf/T/tmpqh152fxn/gapminder/displays/Gapminder/panels/lifeexp_time/albania_europe_al.png\n",
      "DEBUG:root:Saving image /var/folders/sd/q0zvkr053gn240n3g__01pn95pw3zf/T/tmpqh152fxn/gapminder/displays/Gapminder/panels/lifeexp_time/algeria_africa_dz.png\n",
      "DEBUG:root:Saving image /var/folders/sd/q0zvkr053gn240n3g__01pn95pw3zf/T/tmpqh152fxn/gapminder/displays/Gapminder/panels/lifeexp_time/angola_africa_ao.png\n",
      "DEBUG:root:Saving image /var/folders/sd/q0zvkr053gn240n3g__01pn95pw3zf/T/tmpqh152fxn/gapminder/displays/Gapminder/panels/lifeexp_time/argentina_americas_ar.png\n",
      "DEBUG:root:Saving image /var/folders/sd/q0zvkr053gn240n3g__01pn95pw3zf/T/tmpqh152fxn/gapminder/displays/Gapminder/panels/lifeexp_time/australia_oceania_au.png\n",
      "DEBUG:root:Saving image /var/folders/sd/q0zvkr053gn240n3g__01pn95pw3zf/T/tmpqh152fxn/gapminder/displays/Gapminder/panels/lifeexp_time/austria_europe_at.png\n",
      "DEBUG:root:Saving image /var/folders/sd/q0zvkr053gn240n3g__01pn95pw3zf/T/tmpqh152fxn/gapminder/displays/Gapminder/panels/lifeexp_time/bahrain_asia_bh.png\n",
      "DEBUG:root:Saving image /var/folders/sd/q0zvkr053gn240n3g__01pn95pw3zf/T/tmpqh152fxn/gapminder/displays/Gapminder/panels/lifeexp_time/bangladesh_asia_bd.png\n",
      "DEBUG:root:Saving image /var/folders/sd/q0zvkr053gn240n3g__01pn95pw3zf/T/tmpqh152fxn/gapminder/displays/Gapminder/panels/lifeexp_time/belgium_europe_be.png\n",
      "DEBUG:root:Saving image /var/folders/sd/q0zvkr053gn240n3g__01pn95pw3zf/T/tmpqh152fxn/gapminder/displays/Gapminder/panels/lifeexp_time/benin_africa_bj.png\n",
      "DEBUG:root:Saving image /var/folders/sd/q0zvkr053gn240n3g__01pn95pw3zf/T/tmpqh152fxn/gapminder/displays/Gapminder/panels/lifeexp_time/bosnia_and_herzegovina_europe_ba.png\n",
      "DEBUG:root:Saving image /var/folders/sd/q0zvkr053gn240n3g__01pn95pw3zf/T/tmpqh152fxn/gapminder/displays/Gapminder/panels/lifeexp_time/botswana_africa_bw.png\n",
      "DEBUG:root:Saving image /var/folders/sd/q0zvkr053gn240n3g__01pn95pw3zf/T/tmpqh152fxn/gapminder/displays/Gapminder/panels/lifeexp_time/brazil_americas_br.png\n",
      "DEBUG:root:Saving image /var/folders/sd/q0zvkr053gn240n3g__01pn95pw3zf/T/tmpqh152fxn/gapminder/displays/Gapminder/panels/lifeexp_time/bulgaria_europe_bg.png\n",
      "DEBUG:root:Saving image /var/folders/sd/q0zvkr053gn240n3g__01pn95pw3zf/T/tmpqh152fxn/gapminder/displays/Gapminder/panels/lifeexp_time/burkina_faso_africa_bf.png\n",
      "DEBUG:root:Saving image /var/folders/sd/q0zvkr053gn240n3g__01pn95pw3zf/T/tmpqh152fxn/gapminder/displays/Gapminder/panels/lifeexp_time/burundi_africa_bi.png\n",
      "DEBUG:root:Inferring Metas: {'flag_url', 'mean_gdp', 'country', 'mean_lifeExp', 'min_lifeExp', 'lifeExp_time__FIGURE', 'flag', 'latitude', 'continent', 'iso_alpha2', 'first_date', 'lifeExp_time', 'longitude', 'max_lifeExp', 'wiki', 'first_year'}\n",
      "DEBUG:root:Successfully inferred metas: ['flag_url', 'mean_gdp', 'country', 'mean_lifeExp', 'min_lifeExp', 'flag', 'latitude', 'continent', 'iso_alpha2', 'lifeExp_time', 'longitude', 'max_lifeExp', 'wiki', 'first_year']\n",
      "INFO:root:No layout definition supplied. Using Default.\n",
      "INFO:root:No labels definition supplied. Using Default.\n",
      "INFO:root:Trelliscope written to `/var/folders/sd/q0zvkr053gn240n3g__01pn95pw3zf/T/tmpqh152fxn/gapminder`\n"
     ]
    }
   ],
   "source": [
    "tr = (Trelliscope(joined_df, \"Gapminder\")\n",
    "      .write_display()\n",
    "      .view_trelliscope()\n",
    ")"
   ]
  },
  {
   "cell_type": "markdown",
   "metadata": {},
   "source": [
    "### Explicitly Set Trelliscope Parameters\n",
    "In the previous examples, the default parameters were used for the Trelliscopes, but these parameters can be explicitly set if the default values are not sufficient."
   ]
  },
  {
   "cell_type": "code",
   "execution_count": 13,
   "metadata": {},
   "outputs": [
    {
     "name": "stderr",
     "output_type": "stream",
     "text": [
      "INFO:root:Using ['country', 'continent', 'iso_alpha2'] to uniquely identify each row of the data.\n",
      "INFO:root:Replacing entire existing sort state specification\n",
      "INFO:root:Saving to /var/folders/sd/q0zvkr053gn240n3g__01pn95pw3zf/T/tmpwjzcoyhr/gapminder\n",
      "DEBUG:root:Saving image /var/folders/sd/q0zvkr053gn240n3g__01pn95pw3zf/T/tmpwjzcoyhr/gapminder/displays/Gapminder/panels/lifeexp_time/afghanistan_asia_af.png\n",
      "DEBUG:root:Saving image /var/folders/sd/q0zvkr053gn240n3g__01pn95pw3zf/T/tmpwjzcoyhr/gapminder/displays/Gapminder/panels/lifeexp_time/albania_europe_al.png\n",
      "DEBUG:root:Saving image /var/folders/sd/q0zvkr053gn240n3g__01pn95pw3zf/T/tmpwjzcoyhr/gapminder/displays/Gapminder/panels/lifeexp_time/algeria_africa_dz.png\n",
      "DEBUG:root:Saving image /var/folders/sd/q0zvkr053gn240n3g__01pn95pw3zf/T/tmpwjzcoyhr/gapminder/displays/Gapminder/panels/lifeexp_time/angola_africa_ao.png\n",
      "DEBUG:root:Saving image /var/folders/sd/q0zvkr053gn240n3g__01pn95pw3zf/T/tmpwjzcoyhr/gapminder/displays/Gapminder/panels/lifeexp_time/argentina_americas_ar.png\n",
      "DEBUG:root:Saving image /var/folders/sd/q0zvkr053gn240n3g__01pn95pw3zf/T/tmpwjzcoyhr/gapminder/displays/Gapminder/panels/lifeexp_time/australia_oceania_au.png\n",
      "DEBUG:root:Saving image /var/folders/sd/q0zvkr053gn240n3g__01pn95pw3zf/T/tmpwjzcoyhr/gapminder/displays/Gapminder/panels/lifeexp_time/austria_europe_at.png\n",
      "DEBUG:root:Saving image /var/folders/sd/q0zvkr053gn240n3g__01pn95pw3zf/T/tmpwjzcoyhr/gapminder/displays/Gapminder/panels/lifeexp_time/bahrain_asia_bh.png\n",
      "DEBUG:root:Saving image /var/folders/sd/q0zvkr053gn240n3g__01pn95pw3zf/T/tmpwjzcoyhr/gapminder/displays/Gapminder/panels/lifeexp_time/bangladesh_asia_bd.png\n",
      "DEBUG:root:Saving image /var/folders/sd/q0zvkr053gn240n3g__01pn95pw3zf/T/tmpwjzcoyhr/gapminder/displays/Gapminder/panels/lifeexp_time/belgium_europe_be.png\n",
      "DEBUG:root:Saving image /var/folders/sd/q0zvkr053gn240n3g__01pn95pw3zf/T/tmpwjzcoyhr/gapminder/displays/Gapminder/panels/lifeexp_time/benin_africa_bj.png\n",
      "DEBUG:root:Saving image /var/folders/sd/q0zvkr053gn240n3g__01pn95pw3zf/T/tmpwjzcoyhr/gapminder/displays/Gapminder/panels/lifeexp_time/bosnia_and_herzegovina_europe_ba.png\n",
      "DEBUG:root:Saving image /var/folders/sd/q0zvkr053gn240n3g__01pn95pw3zf/T/tmpwjzcoyhr/gapminder/displays/Gapminder/panels/lifeexp_time/botswana_africa_bw.png\n",
      "DEBUG:root:Saving image /var/folders/sd/q0zvkr053gn240n3g__01pn95pw3zf/T/tmpwjzcoyhr/gapminder/displays/Gapminder/panels/lifeexp_time/brazil_americas_br.png\n",
      "DEBUG:root:Saving image /var/folders/sd/q0zvkr053gn240n3g__01pn95pw3zf/T/tmpwjzcoyhr/gapminder/displays/Gapminder/panels/lifeexp_time/bulgaria_europe_bg.png\n",
      "DEBUG:root:Saving image /var/folders/sd/q0zvkr053gn240n3g__01pn95pw3zf/T/tmpwjzcoyhr/gapminder/displays/Gapminder/panels/lifeexp_time/burkina_faso_africa_bf.png\n",
      "DEBUG:root:Saving image /var/folders/sd/q0zvkr053gn240n3g__01pn95pw3zf/T/tmpwjzcoyhr/gapminder/displays/Gapminder/panels/lifeexp_time/burundi_africa_bi.png\n",
      "DEBUG:root:Inferring Metas: {'flag_url', 'mean_gdp', 'country', 'mean_lifeExp', 'min_lifeExp', 'lifeExp_time__FIGURE', 'flag', 'latitude', 'continent', 'iso_alpha2', 'first_date', 'lifeExp_time', 'longitude', 'max_lifeExp', 'wiki', 'first_year'}\n",
      "DEBUG:root:Successfully inferred metas: ['flag_url', 'mean_gdp', 'country', 'mean_lifeExp', 'min_lifeExp', 'flag', 'latitude', 'continent', 'iso_alpha2', 'lifeExp_time', 'longitude', 'max_lifeExp', 'wiki', 'first_year']\n",
      "INFO:root:Trelliscope written to `/var/folders/sd/q0zvkr053gn240n3g__01pn95pw3zf/T/tmpwjzcoyhr/gapminder`\n"
     ]
    }
   ],
   "source": [
    "tr = (Trelliscope(joined_df, name=\"Gapminder\")\n",
    "        .set_default_labels([\"country\", \"continent\"])\n",
    "        .set_default_layout(3)\n",
    "        .set_default_sort([\"continent\", \"mean_lifeExp\"], sort_directions=[\"asc\", \"desc\"])\n",
    "        .set_default_filters([NumberRangeFilterState(\"mean_lifeExp\", 30, 60)])\n",
    "        .write_display()\n",
    "        .view_trelliscope()\n",
    ")\n"
   ]
  },
  {
   "cell_type": "code",
   "execution_count": null,
   "metadata": {},
   "outputs": [],
   "source": []
  }
 ],
 "metadata": {
  "kernelspec": {
   "display_name": "tr-dev-env",
   "language": "python",
   "name": "python3"
  },
  "language_info": {
   "codemirror_mode": {
    "name": "ipython",
    "version": 3
   },
   "file_extension": ".py",
   "mimetype": "text/x-python",
   "name": "python",
   "nbconvert_exporter": "python",
   "pygments_lexer": "ipython3",
   "version": "3.11.2"
  }
 },
 "nbformat": 4,
 "nbformat_minor": 2
}
